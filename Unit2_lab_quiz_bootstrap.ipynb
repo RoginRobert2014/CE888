{
  "nbformat": 4,
  "nbformat_minor": 0,
  "metadata": {
    "colab": {
      "name": "Copy of Copy of bootstrap.ipynb",
      "provenance": [],
      "collapsed_sections": [],
      "include_colab_link": true
    },
    "kernelspec": {
      "display_name": "Python 3",
      "language": "python",
      "name": "python3"
    },
    "language_info": {
      "codemirror_mode": {
        "name": "ipython",
        "version": 3
      },
      "file_extension": ".py",
      "mimetype": "text/x-python",
      "name": "python",
      "nbconvert_exporter": "python",
      "pygments_lexer": "ipython3",
      "version": "3.7.6"
    },
    "pycharm": {
      "stem_cell": {
        "cell_type": "raw",
        "metadata": {
          "collapsed": false
        },
        "source": []
      }
    }
  },
  "cells": [
    {
      "cell_type": "markdown",
      "metadata": {
        "id": "view-in-github",
        "colab_type": "text"
      },
      "source": [
        "<a href=\"https://colab.research.google.com/github/RoginRobert2014/CE888/blob/main/Unit2_lab_quiz_bootstrap.ipynb\" target=\"_parent\"><img src=\"https://colab.research.google.com/assets/colab-badge.svg\" alt=\"Open In Colab\"/></a>"
      ]
    },
    {
      "cell_type": "markdown",
      "metadata": {
        "id": "nCi_99yMYIb1"
      },
      "source": [
        "In this notebook you'll create your own bootstrap function following the bootstrap algorithm (check the lecture notes!)"
      ]
    },
    {
      "cell_type": "code",
      "metadata": {
        "id": "LY5zujI2YC37",
        "pycharm": {
          "name": "#%%# Imports\n"
        }
      },
      "source": [
        "import matplotlib\n",
        "import pandas as pd\n",
        "import seaborn as sns\n",
        "import numpy as np\n",
        "\n"
      ],
      "execution_count": 7,
      "outputs": []
    },
    {
      "cell_type": "code",
      "metadata": {
        "id": "Eqkwj4SMY38t"
      },
      "source": [
        "# Load the data\n",
        "df = pd.read_csv('https://raw.githubusercontent.com/albanda/CE888/master/lab2%20-%20bootstrap/customers.csv')\n",
        "data = df.values.T[1]\n",
        "\n"
      ],
      "execution_count": 8,
      "outputs": []
    },
    {
      "cell_type": "code",
      "metadata": {
        "id": "Gxvc_bScYC4H",
        "pycharm": {
          "name": "#%%\n"
        },
        "colab": {
          "base_uri": "https://localhost:8080/"
        },
        "outputId": "a180a919-f352-4df4-f984-1880bfa96e2f"
      },
      "source": [
        "# Checking the notes from the lecture, create here your own bootstrap function:\n",
        "# 1. Sample from the input array x to create an array of samples of shape (n_bootstraps, sample_size)\n",
        "# Hint: Check the function random.choice() on Numpy\n",
        "# 2. Calculate and save the mean of the array (this is \"data_mean\" that is returned by the function)\n",
        "# 3. Calculate the mean from each bootstrap (i.e., row) and store it.\n",
        "# (This should be an array of n_bootstraps values)\n",
        "# 4. Calculate the lower and upper bounds for a 95% CI (hint: check the percentile function on Numpy)\n",
        "# 5. Return data_mean, and the lower and upper bounds of your interval\n",
        "def bootstrap_mean(x, sample_size, n_bootstraps):\n",
        "\n",
        "  # Create bootstrap samples from given dataset\n",
        "  bootstrapping = np.random.choice(x, replace= True, size= [n_bootstraps, sample_size])  \n",
        "\n",
        "  meanBootstapSamples = []\n",
        "\n",
        "  # Create an array of mean of all bootstrap samples\n",
        "  for singleSample in bootstrapping:\n",
        "    singleSampleMean = singleSample.mean()\n",
        "    meanBootstapSamples.append(singleSampleMean)\n",
        "\n",
        "  meanBootstapSamplesArray = np.array(meanBootstapSamples)  \n",
        "\n",
        "  # Mean of array of all means of bootstrap samples\n",
        "  data_mean = meanBootstapSamplesArray.mean() \n",
        "  \n",
        "  # Lower and upper mean values in mean of bootstrap arrays\n",
        "  lower, upper = np.percentile(meanBootstapSamplesArray, [2.5, 97.5])\n",
        "  return data_mean, lower, upper\n",
        "\n",
        "\n",
        "bootstrap_mean(data, data.shape[0], 10)"
      ],
      "execution_count": 9,
      "outputs": [
        {
          "output_type": "execute_result",
          "data": {
            "text/plain": [
              "(9.007142857142856, 7.516071428571428, 11.292857142857144)"
            ]
          },
          "metadata": {
            "tags": []
          },
          "execution_count": 9
        }
      ]
    },
    {
      "cell_type": "code",
      "metadata": {
        "id": "AN7sEOcMYC4P",
        "pycharm": {
          "name": "#%%\n"
        },
        "colab": {
          "base_uri": "https://localhost:8080/",
          "height": 451
        },
        "outputId": "e14b312b-3b41-405c-f4b3-d64d8c158522"
      },
      "source": [
        "# Call your bootstrap function and plot the results\n",
        "\n",
        "boots = []\n",
        "for i in range(100, 50000, 1000):\n",
        "    boot = bootstrap_mean(data, data.shape[0], i)\n",
        "    boots.append([i, boot[0], \"mean\"])\n",
        "    boots.append([i, boot[1], \"lower\"])\n",
        "    boots.append([i, boot[2], \"upper\"])\n",
        "\n",
        "df_boot = pd.DataFrame(boots, columns=['Bootstrap Iterations', 'Mean', \"Value\"])\n",
        "sns_plot = sns.lmplot(df_boot.columns[0], df_boot.columns[1], data=df_boot, fit_reg=False, hue=\"Value\")\n",
        "\n",
        "sns_plot.axes[0, 0].set_ylim(0,)\n",
        "sns_plot.axes[0, 0].set_xlim(0, 100000)\n"
      ],
      "execution_count": 10,
      "outputs": [
        {
          "output_type": "stream",
          "text": [
            "/usr/local/lib/python3.6/dist-packages/seaborn/_decorators.py:43: FutureWarning: Pass the following variables as keyword args: x, y. From version 0.12, the only valid positional argument will be `data`, and passing other arguments without an explicit keyword will result in an error or misinterpretation.\n",
            "  FutureWarning\n"
          ],
          "name": "stderr"
        },
        {
          "output_type": "execute_result",
          "data": {
            "text/plain": [
              "(0.0, 100000.0)"
            ]
          },
          "metadata": {
            "tags": []
          },
          "execution_count": 10
        },
        {
          "output_type": "display_data",
          "data": {
            "image/png": "[encoded data removed]",
            "text/plain": [
              "<Figure size 425.125x360 with 1 Axes>"
            ]
          },
          "metadata": {
            "tags": [],
            "needs_background": "light"
          }
        }
      ]
    },
    {
      "cell_type": "markdown",
      "metadata": {
        "id": "MjtP4e2_YC4V"
      },
      "source": [
        "\n",
        "Now, modify the bootstrap function you created above so that you can pass your desired confidence interval as a parameter.\n",
        "\n"
      ]
    },
    {
      "cell_type": "code",
      "metadata": {
        "id": "3K9j0FuGYhHs",
        "colab": {
          "base_uri": "https://localhost:8080/"
        },
        "outputId": "78264b55-45bd-45e3-e4b6-33736b599fa6"
      },
      "source": [
        "def bootstrap_mean_ci(sample, sample_size, n_bootstraps, ci):\n",
        "  # <---INSERT YOUR CODE HERE--->\n",
        "\n",
        " # Create bootstrap samples from given dataset\n",
        "  bootstrapping = np.random.choice(sample, replace= True, size= [n_bootstraps, sample_size])  \n",
        "\n",
        "  meanBootstapSamples = []\n",
        "\n",
        "  # Create an array of mean of all bootstrap samples\n",
        "  for singleSample in bootstrapping:\n",
        "    singleSampleMean = singleSample.mean()\n",
        "    meanBootstapSamples.append(singleSampleMean)\n",
        "    \n",
        "  meanBootstapSamplesArray = np.array(meanBootstapSamples)  \n",
        "\n",
        "  # Mean of array of all means of bootstrap samples\n",
        "  data_mean = meanBootstapSamplesArray.mean() \n",
        "  \n",
        "  # Lower and upper mean values in mean of bootstrap arrays\n",
        "  lower, upper = np.percentile(meanBootstapSamplesArray, [(100-ci)/2, ci + (100-ci)/2])\n",
        "\n",
        "  return data_mean, lower, upper\n",
        "\n",
        "# bootstrap_mean_ci(data, data.shape[0], 10, 80)\n",
        "bootstrap_mean_ci(data, data.shape[0], 10, 80)\n",
        "\t"
      ],
      "execution_count": 11,
      "outputs": [
        {
          "output_type": "execute_result",
          "data": {
            "text/plain": [
              "(9.028571428571428, 7.571428571428572, 10.564285714285713)"
            ]
          },
          "metadata": {
            "tags": []
          },
          "execution_count": 11
        }
      ]
    },
    {
      "cell_type": "code",
      "metadata": {
        "colab": {
          "base_uri": "https://localhost:8080/"
        },
        "id": "qkiE4HevYQup",
        "outputId": "6de4bd4a-579e-4b57-d5c4-b2372bb732a0"
      },
      "source": [
        "def bootstrap_standardDeviation_ci(sample, sample_size, n_bootstraps, ci):\r\n",
        "  # <---INSERT YOUR CODE HERE--->\r\n",
        "\r\n",
        " # Create bootstrap samples from given dataset\r\n",
        "  bootstrapping = np.random.choice(sample, replace= True, size= [n_bootstraps, sample_size])  \r\n",
        "\r\n",
        "  meanBootstapSamples = []\r\n",
        "\r\n",
        "  # Create an array of mean of all bootstrap samples\r\n",
        "  for singleSample in bootstrapping:\r\n",
        "    # singleSampleMean = singleSample.mean()\r\n",
        "    singleSampleStd = np.std(singleSample)\r\n",
        "    meanBootstapSamples.append(singleSampleStd)\r\n",
        "    \r\n",
        "  meanBootstapSamplesArray = np.array(meanBootstapSamples)  \r\n",
        "\r\n",
        "  # Mean of array of all means of bootstrap samples\r\n",
        "  # data_mean = meanBootstapSamplesArray.mean() \r\n",
        "  data_std = np.std(meanBootstapSamplesArray)\r\n",
        "  \r\n",
        "  # Lower and upper mean values in mean of bootstrap arrays\r\n",
        "  lower, upper = np.percentile(meanBootstapSamplesArray, [(100-ci)/2, ci + (100-ci)/2])\r\n",
        "\r\n",
        "  return data_std, lower, upper\r\n",
        "\r\n",
        "# bootstrap_mean_ci(data, data.shape[0], 10, 80)\r\n",
        "bootstrap_standardDeviation_ci(data, data.shape[0], 10, 80)\r\n",
        "\t"
      ],
      "execution_count": 21,
      "outputs": [
        {
          "output_type": "execute_result",
          "data": {
            "text/plain": [
              "(1.0360429945663294, 4.233667823075378, 6.325568426272781)"
            ]
          },
          "metadata": {
            "tags": []
          },
          "execution_count": 21
        }
      ]
    },
    {
      "cell_type": "code",
      "metadata": {
        "id": "uDnjq08GYl-C",
        "colab": {
          "base_uri": "https://localhost:8080/",
          "height": 454
        },
        "outputId": "cbdd17b0-8b2a-4b03-988d-1d91d64b2cfe"
      },
      "source": [
        "boots = []\n",
        "for i in range(100, 50000, 1000):\n",
        "    boot = bootstrap_mean_ci(data, data.shape[0], i, 80)\n",
        "    boots.append([i, boot[0], \"mean\"])\n",
        "    boots.append([i, boot[1], \"lower\"])\n",
        "    boots.append([i, boot[2], \"upper\"])\n",
        "\n",
        "df_boot = pd.DataFrame(boots, columns=['Boostrap Iterations', 'Mean', \"Value\"])\n",
        "sns_plot = sns.lmplot(df_boot.columns[0], df_boot.columns[1], data=df_boot, fit_reg=False, hue=\"Value\")\n",
        "\n",
        "sns_plot.axes[0, 0].set_ylim(0,)\n",
        "sns_plot.axes[0, 0].set_xlim(0, 100000)\n",
        "\n",
        "#sns_plot.savefig(\"bootstrap_confidence_80.pdf\", bbox_inches='tight')\n"
      ],
      "execution_count": 12,
      "outputs": [
        {
          "output_type": "stream",
          "text": [
            "/usr/local/lib/python3.6/dist-packages/seaborn/_decorators.py:43: FutureWarning: Pass the following variables as keyword args: x, y. From version 0.12, the only valid positional argument will be `data`, and passing other arguments without an explicit keyword will result in an error or misinterpretation.\n",
            "  FutureWarning\n"
          ],
          "name": "stderr"
        },
        {
          "output_type": "execute_result",
          "data": {
            "text/plain": [
              "(0.0, 100000.0)"
            ]
          },
          "metadata": {
            "tags": []
          },
          "execution_count": 12
        },
        {
          "output_type": "display_data",
          "data": {
            "image/png": "[encoded data removed]",
            "text/plain": [
              "<Figure size 425.125x360 with 1 Axes>"
            ]
          },
          "metadata": {
            "tags": [],
            "needs_background": "light"
          }
        }
      ]
    },
    {
      "cell_type": "markdown",
      "metadata": {
        "id": "qjNgXW6wdd7r"
      },
      "source": [
        "# Vehicles dataset\n",
        "\n",
        "Now let's work on a different dataset, which is stored in the vehicles.csv file.\n"
      ]
    },
    {
      "cell_type": "code",
      "metadata": {
        "id": "avWv4ipFdpka",
        "colab": {
          "base_uri": "https://localhost:8080/",
          "height": 738
        },
        "outputId": "ecb73847-b1c5-488f-a524-1db98e1cf787"
      },
      "source": [
        "# Load and visualise the vehicles dataset\n",
        "# To load the dataset: https://neptune.ai/blog/google-colab-dealing-with-files (check section \"Load individual files directly from GitHub\")\n",
        "\n",
        "\n",
        "# Note that the current and new fleets are in different columns and have different lengths, so bear this in mind when you're plotting.\n",
        "# You can create separate scatterplots for the two fleets, as you would with the histograms, \n",
        "# or plot them both in one plot (but not one against the other).\n",
        "# <---INSERT YOUR CODE HERE--->\n",
        "\n",
        "# Load data from github vehicle dataset\n",
        "df = pd.read_csv('https://raw.githubusercontent.com/albanda/CE888/master/lab2%20-%20bootstrap/vehicles.csv')\n",
        "\n",
        "# current fleet dataset\n",
        "currentFleet = df.values.T[0]\n",
        "\n",
        "# new fleet dataset\n",
        "newFleet = df.values.T[1]\n",
        "\n",
        "# Removing null values from new fleet dataset\n",
        "newFleet= newFleet[np.logical_not(np.isnan(newFleet))]\n",
        "\n",
        "# Plotting Current fleet using seaborn histogram\n",
        "sns.displot(data=df, x='Current fleet')\n",
        "\n",
        "# sns.scatterplot(data=df, col='Current fleet')\n",
        "\n",
        "# Plotting new fleet using seaborn histogram\n",
        "sns.displot(data=df, x='New Fleet')\n",
        "# sns.scatterplot(data=df, x='New Fleet')\n",
        "\n",
        "# Note: you can add more cells as needed to organise your code and your plots\n"
      ],
      "execution_count": 13,
      "outputs": [
        {
          "output_type": "execute_result",
          "data": {
            "text/plain": [
              "<seaborn.axisgrid.FacetGrid at 0x7f7787c8ab38>"
            ]
          },
          "metadata": {
            "tags": []
          },
          "execution_count": 13
        },
        {
          "output_type": "display_data",
          "data": {
            "image/png": "[encoded data removed]",
            "text/plain": [
              "<Figure size 360x360 with 1 Axes>"
            ]
          },
          "metadata": {
            "tags": [],
            "needs_background": "light"
          }
        },
        {
          "output_type": "display_data",
          "data": {
            "image/png": "[encoded data removed]",
            "text/plain": [
              "<Figure size 360x360 with 1 Axes>"
            ]
          },
          "metadata": {
            "tags": [],
            "needs_background": "light"
          }
        }
      ]
    },
    {
      "cell_type": "markdown",
      "metadata": {
        "id": "B5d0tXDpIEj8"
      },
      "source": [
        "## Compare the two fleets\r\n",
        "\r\n",
        "The business analysts come up a comparison algorithm that requires the upper and lower bounds for the mean in order to say which fleet is better.\r\n",
        "1. Calculate the mean of both samples.\r\n",
        "2. Using the bootstrap function that you created:\r\n",
        "    - Construct the 95% CI of the mean of the current fleet.\r\n",
        "    - Construct the 95% CI of the mean of the new fleet.\r\n",
        "    - Are they comparable? (i.e., is one better than the other?) -- you can do this with a permutation test (check the lecture notes!)"
      ]
    },
    {
      "cell_type": "code",
      "metadata": {
        "id": "po4mp6zRHC0m",
        "colab": {
          "base_uri": "https://localhost:8080/"
        },
        "outputId": "06fffec1-160e-48c6-8888-caed82a72bcd"
      },
      "source": [
        "# <---INSERT YOUR CODE HERE--->\n",
        "\n",
        "# from mlxtend.evaluate import permutation_test\n",
        "\n",
        "# The variables below represent the percentages of democratic votes in Pennsylvania and Ohio (one value for each state).\n",
        "dem_share_PA = [60.08, 40.64, 36.07, 41.21, 31.04, 43.78, 44.08, 46.85, 44.71, 46.15, 63.10, 52.20, 43.18, 40.24, 39.92, 47.87, 37.77, 40.11, 49.85, 48.61, 38.62, 54.25, 34.84, 47.75, 43.82, 55.97, 58.23, 42.97, 42.38, 36.11, 37.53, 42.65, 50.96, 47.43, 56.24, 45.60, 46.39, 35.22, 48.56, 32.97, 57.88, 36.05, 37.72, 50.36, 32.12, 41.55, 54.66, 57.81, 54.58, 32.88, 54.37, 40.45, 47.61, 60.49, 43.11, 27.32, 44.03, 33.56, 37.26, 54.64, 43.12, 25.34, 49.79, 83.56, 40.09, 60.81, 49.81]\n",
        "dem_share_OH = [56.94, 50.46, 65.99, 45.88, 42.23, 45.26, 57.01, 53.61, 59.10, 61.48, 43.43, 44.69, 54.59, 48.36, 45.89, 48.62, 43.92, 38.23, 28.79, 63.57, 38.07, 40.18, 43.05, 41.56, 42.49, 36.06, 52.76, 46.07, 39.43, 39.26, 47.47, 27.92, 38.01, 45.45, 29.07, 28.94, 51.28, 50.10, 39.84, 36.43, 35.71, 31.47, 47.01, 40.10, 48.76, 31.56, 39.86, 45.31, 35.47, 51.38, 46.33, 48.73, 41.77, 41.32, 48.46, 53.14, 34.01, 54.74, 40.67, 38.96, 46.29, 38.25, 6.80, 31.75, 46.33, 44.90, 33.57, 38.10, 39.67, 40.47, 49.44, 37.62, 36.71, 46.73, 42.20, 53.16, 52.40, 58.36, 68.02, 38.53, 34.58, 69.64, 60.50, 53.53, 36.54, 49.58, 41.97, 38.11]\n",
        "\n",
        "print('dem_share_PA : ', len(dem_share_PA))\n",
        "print('dem_share_OH: ', len(dem_share_OH))\n",
        "\n",
        "\n",
        "# Mean of current fleet samples\n",
        "currentMean = np.mean(currentFleet)\n",
        "\n",
        "# Mean of new fleet samples\n",
        "newMean = np.mean(newFleet)\n",
        "\n",
        "# Observed difference in mean\n",
        "tObserved = newMean - currentMean\n",
        "\n",
        "# 85% CI of the mean of the current fleet\n",
        "# currentSet = bootstrap_mean_ci(currentFleet, currentFleet.shape[0], 10, 95)\n",
        "\n",
        "#Question: The 85% confidence interval for the mean of the old fleet in the vehicles dataset \n",
        "# currentSet = bootstrap_mean_ci(currentFleet, currentFleet.shape[0], 10000, 85)\n",
        "\n",
        "# Question: The 95% confidence interval for the standard deviation of the old fleet in the vehicles dataset using 10000 iterations is\n",
        "# currentSet = bootstrap_standardDeviation_ci(currentFleet, currentFleet.shape[0], 10000, 95)\n",
        "\n",
        "\n",
        "# Question: The 73% confidence interval for the standard deviation of the old fleet in the vehicles dataset using 10000 iterations\n",
        "# currentSet = bootstrap_standardDeviation_ci(currentFleet, currentFleet.shape[0], 10000, 73)\n",
        "# print('Old Set: ', currentSet)\n",
        "\n",
        "#Question: The 90% confidence intervals for the means of the votes using 25000 bootstraps are\n",
        "# votes = np.concatenate((dem_share_PA,dem_share_OH))\n",
        "# print('votes', len(votes))\n",
        "# print('votes', votes)\n",
        "\n",
        "currentSet = bootstrap_mean_ci(dem_share_OH, len(dem_share_OH), 25000, 90)\n",
        "print('dem_share_OH: ', currentSet)\n",
        "\n",
        "dem_share_PA_mean_ci = bootstrap_mean_ci(dem_share_PA, len(dem_share_PA), 25000, 90)\n",
        "print('dem_share_PA: ', dem_share_PA_mean_ci)\n",
        "\n",
        "# Construct the 80% CI of the mean of the new fleet.\n",
        "# newSet = bootstrap_mean_ci(newFleet, newFleet.shape[0], 10, 95)\n",
        "\n",
        "# Question -The 80% confidence interval for the mean of the new fleet in the vehicles dataset using 10000 iterations \n",
        "newSet = bootstrap_mean_ci(newFleet, newFleet.shape[0], 10000, 80)\n",
        "print('newSet: ', newSet)\n",
        "\n",
        "# Difference in mean of 95% CI\n",
        "differenceConfInt = newSet[0] - currentSet[0]\n",
        "\n",
        "# Permutation test \n",
        "concate = np.concatenate((currentFleet,newFleet))\n",
        "\n",
        "numberOfTimes = 0\n",
        "n_permutations = 20000\n",
        "for i in range(n_permutations):\n",
        "  # Performing permutation\n",
        "  perm = np.random.permutation(concate)\n",
        "\n",
        "  # Split the data into the same array length current fleet\n",
        "  pCurrentFleet = perm[:len(currentFleet)]\n",
        "  # Split the data into the same array length new fleet\n",
        "  pNewFleet = perm[-len(newFleet):]\n",
        "\n",
        "  # Mean value of current array\n",
        "  pCurrentFleetMean = pCurrentFleet.mean()\n",
        "\n",
        "  # Mean value of new array\n",
        "  pNewFleetMean = pNewFleet.mean()\n",
        "\n",
        "  # Difference in the mean\n",
        "  tperm = pNewFleetMean - pCurrentFleetMean\n",
        "\n",
        "  if tperm>tObserved:\n",
        "    numberOfTimes += 1\n",
        "\n",
        "pValue = (numberOfTimes)/(n_permutations)\n",
        "print('pValue : ', pValue)"
      ],
      "execution_count": 38,
      "outputs": [
        {
          "output_type": "stream",
          "text": [
            "dem_share_PA :  67\n",
            "dem_share_OH:  88\n",
            "dem_share_OH:  (44.303924663636366, 42.57134659090909, 46.02013068181819)\n",
            "dem_share_PA:  (45.48269770149254, 43.56446268656716, 47.44285820895523)\n",
            "newSet:  (30.475787341772154, 29.60759493670886, 31.341772151898734)\n",
            "pValue :  0.0\n"
          ],
          "name": "stdout"
        }
      ]
    },
    {
      "cell_type": "code",
      "metadata": {
        "id": "MkxvDZG4HC0n",
        "colab": {
          "base_uri": "https://localhost:8080/"
        },
        "outputId": "7979b491-19a9-4bfc-9ef2-60df88ddc8f0"
      },
      "source": [
        "# Create your own function for a permutation test here (you will need it for the lab quiz!):\n",
        "def permut_test(sample1, sample2, n_permutations):\n",
        "    \"\"\"\n",
        "    sample1: 1D array\n",
        "    sample2: 1D array (note that the size of the two arrays can be different)\n",
        "    n_permutations: number of permutations to calculate the p-value\n",
        "    \"\"\"\n",
        "    # Calculating the mean of the two arrays\n",
        "    # sample1Mean = sample1.mean()\n",
        "    # sample2Mean = sample2.mean()\n",
        "    sample1Mean = np.mean(sample1)\n",
        "    sample2Mean = np.mean(sample2)\n",
        "\n",
        "    # Observed difference in mean\n",
        "    tObservation = sample2Mean - sample1Mean\n",
        "\n",
        "    concate = np.concatenate((sample1,sample2))\n",
        "\n",
        "    numberOfTimes = 0\n",
        "\n",
        "    for i in range(n_permutations):\n",
        "      perm = np.random.permutation(concate)\n",
        "\n",
        "      pSample1 = perm[:len(sample1)]\n",
        "      pSample2 = perm[-len(sample2):]\n",
        "\n",
        "      pSample1Mean = pSample1.mean()\n",
        "      pSample2Mean = pSample2.mean()\n",
        "\n",
        "      tperm = pSample2Mean - pSample1Mean\n",
        "      if (np.float64(tperm) > np.float64(tObservation)):        \n",
        "        numberOfTimes = numberOfTimes + 1\n",
        "\n",
        "    pvalue = numberOfTimes/n_permutations\n",
        "\n",
        "    return pvalue\n",
        "\n",
        "# Testing scenario's    \n",
        "a = np.array([1, 2, 3, 4, 5, 7])\n",
        "b = np.array([1, 2, 3, 4, 5, 9])\n",
        "# permut_test(a, b, 20000)\n",
        "# permut_test(currentFleet, newFleet, 20000)\n",
        "# permut_test(currentFleet, newFleet, 30000)\n",
        "\n",
        "# Question - The p-value from a permutation test with 20000 permutations is\n",
        "permut_test(dem_share_PA, dem_share_OH, 30000)"
      ],
      "execution_count": 42,
      "outputs": [
        {
          "output_type": "execute_result",
          "data": {
            "text/plain": [
              "0.7638333333333334"
            ]
          },
          "metadata": {
            "tags": []
          },
          "execution_count": 42
        }
      ]
    },
    {
      "cell_type": "code",
      "metadata": {
        "colab": {
          "base_uri": "https://localhost:8080/"
        },
        "id": "h4X6ComOgvgG",
        "outputId": "2890a60a-0c8d-46b3-ec23-9aebf2521586"
      },
      "source": [
        "# The variables below represent the percentages of democratic votes in Pennsylvania and Ohio (one value for each state).\r\n",
        "dem_share_PA = [60.08, 40.64, 36.07, 41.21, 31.04, 43.78, 44.08, 46.85, 44.71, 46.15, 63.10, 52.20, 43.18, 40.24, 39.92, 47.87, 37.77, 40.11, 49.85, 48.61, 38.62, 54.25, 34.84, 47.75, 43.82, 55.97, 58.23, 42.97, 42.38, 36.11, 37.53, 42.65, 50.96, 47.43, 56.24, 45.60, 46.39, 35.22, 48.56, 32.97, 57.88, 36.05, 37.72, 50.36, 32.12, 41.55, 54.66, 57.81, 54.58, 32.88, 54.37, 40.45, 47.61, 60.49, 43.11, 27.32, 44.03, 33.56, 37.26, 54.64, 43.12, 25.34, 49.79, 83.56, 40.09, 60.81, 49.81]\r\n",
        "dem_share_OH = [56.94, 50.46, 65.99, 45.88, 42.23, 45.26, 57.01, 53.61, 59.10, 61.48, 43.43, 44.69, 54.59, 48.36, 45.89, 48.62, 43.92, 38.23, 28.79, 63.57, 38.07, 40.18, 43.05, 41.56, 42.49, 36.06, 52.76, 46.07, 39.43, 39.26, 47.47, 27.92, 38.01, 45.45, 29.07, 28.94, 51.28, 50.10, 39.84, 36.43, 35.71, 31.47, 47.01, 40.10, 48.76, 31.56, 39.86, 45.31, 35.47, 51.38, 46.33, 48.73, 41.77, 41.32, 48.46, 53.14, 34.01, 54.74, 40.67, 38.96, 46.29, 38.25, 6.80, 31.75, 46.33, 44.90, 33.57, 38.10, 39.67, 40.47, 49.44, 37.62, 36.71, 46.73, 42.20, 53.16, 52.40, 58.36, 68.02, 38.53, 34.58, 69.64, 60.50, 53.53, 36.54, 49.58, 41.97, 38.11]\r\n",
        "\r\n",
        "print('dem_share_PA : ', len(dem_share_PA))\r\n",
        "print('dem_share_OH: ', len(dem_share_OH))"
      ],
      "execution_count": 41,
      "outputs": [
        {
          "output_type": "stream",
          "text": [
            "dem_share_PA :  67\n",
            "dem_share_OH:  88\n"
          ],
          "name": "stdout"
        }
      ]
    }
  ]
}