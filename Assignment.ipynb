{
  "nbformat": 4,
  "nbformat_minor": 0,
  "metadata": {
    "colab": {
      "name": "Assignment.ipynb",
      "provenance": [],
      "collapsed_sections": [],
      "mount_file_id": "1-mEQxPgJT7NfSsAwPO5zyODl9YiDXV-o",
      "authorship_tag": "ABX9TyN4XsEOTVZ7+XntHR4C19n7",
      "include_colab_link": true
    },
    "kernelspec": {
      "display_name": "Python 3",
      "name": "python3"
    },
    "accelerator": "GPU"
  },
  "cells": [
    {
      "cell_type": "markdown",
      "metadata": {
        "id": "view-in-github",
        "colab_type": "text"
      },
      "source": [
        "<a href=\"https://colab.research.google.com/github/RoginRobert2014/CE888/blob/main/Assignment.ipynb\" target=\"_parent\"><img src=\"https://colab.research.google.com/assets/colab-badge.svg\" alt=\"Open In Colab\"/></a>"
      ]
    },
    {
      "cell_type": "code",
      "metadata": {
        "id": "V2tYPnOvwPUz"
      },
      "source": [
        "import matplotlib.pyplot as plt\r\n",
        "import matplotlib.image as mpimg\r\n",
        "import numpy as np\r\n",
        "import os\r\n",
        "import PIL\r\n",
        "import tensorflow as tf\r\n",
        "import cv2\r\n",
        "from tensorflow import keras\r\n",
        "from tensorflow.keras import layers\r\n",
        "from tensorflow.keras.models import Sequential"
      ],
      "execution_count": null,
      "outputs": []
    },
    {
      "cell_type": "code",
      "metadata": {
        "id": "jkx-dnz92CsJ"
      },
      "source": [
        "# Loading the training data set     \r\n",
        "data_dir = \"/content/drive/MyDrive/Colab Notebooks/CE888/Training\""
      ],
      "execution_count": null,
      "outputs": []
    },
    {
      "cell_type": "code",
      "metadata": {
        "id": "fA3uts7N2bwA"
      },
      "source": [
        "# Read a sample image\r\n",
        "image = mpimg.imread('/content/drive/MyDrive/Colab Notebooks/CE888/sample.jpg')"
      ],
      "execution_count": null,
      "outputs": []
    },
    {
      "cell_type": "code",
      "metadata": {
        "id": "uNIO1irw2h_d"
      },
      "source": [
        "# Display the image\r\n",
        "plt.imshow(image)"
      ],
      "execution_count": null,
      "outputs": []
    },
    {
      "cell_type": "code",
      "metadata": {
        "id": "LE-WGapD2ooh"
      },
      "source": [
        "# Give the batch size and image dimensions\r\n",
        "batch_size = 32\r\n",
        "img_height = 254\r\n",
        "img_width = 254\r\n"
      ],
      "execution_count": null,
      "outputs": []
    },
    {
      "cell_type": "code",
      "metadata": {
        "id": "UB74Xq1r2q4S"
      },
      "source": [
        "# Let's use 80% of the images for training, and 20% for validation.\r\n",
        "train_ds = tf.keras.preprocessing.image_dataset_from_directory(\r\n",
        "    data_dir,\r\n",
        "    validation_split=0.2,\r\n",
        "    subset=\"training\",\r\n",
        "    seed=1337,\r\n",
        "    image_size=(img_height, img_width),\r\n",
        "    batch_size=batch_size)"
      ],
      "execution_count": null,
      "outputs": []
    },
    {
      "cell_type": "code",
      "metadata": {
        "id": "1GtJtMI92zzV"
      },
      "source": [
        "# Let's use 20% of the images for validation.\r\n",
        "val_ds = tf.keras.preprocessing.image_dataset_from_directory(\r\n",
        "    data_dir,\r\n",
        "    validation_split=0.2,\r\n",
        "    subset=\"validation\",\r\n",
        "    seed=1337,\r\n",
        "    image_size=(img_height, img_width),\r\n",
        "    batch_size=batch_size)"
      ],
      "execution_count": null,
      "outputs": []
    },
    {
      "cell_type": "code",
      "metadata": {
        "id": "1w2xEtRp27Ns"
      },
      "source": [
        "# List the number of classes in the training dataset\r\n",
        "class_names = train_ds.class_names\r\n",
        "print(class_names)"
      ],
      "execution_count": null,
      "outputs": []
    },
    {
      "cell_type": "code",
      "metadata": {
        "id": "N5ZtYwva4YWX"
      },
      "source": [
        "# Apply Cache and prefetch to increase the performance of dataset\r\n",
        "# auto_tune = tf.data.AUTOTUNE\r\n",
        "auto_tune = 30\r\n",
        "# shuffle 1000\r\n",
        "train_ds = train_ds.cache().shuffle(10).prefetch(buffer_size=auto_tune)\r\n",
        "val_ds = val_ds.cache().prefetch(buffer_size=auto_tune)"
      ],
      "execution_count": null,
      "outputs": []
    },
    {
      "cell_type": "code",
      "metadata": {
        "id": "5RbBwhpP5lvn"
      },
      "source": [
        "# Creating the model\r\n",
        "number_classes = 2\r\n",
        "model = Sequential([\r\n",
        "    # Standardize the data in the [0, 1] range using a Rescaling layer                    \r\n",
        "    layers.experimental.preprocessing.Rescaling(1. / 255, input_shape=(img_height, img_width, 3)),\r\n",
        "    layers.Conv2D(16, 3, padding='same', activation='relu'),\r\n",
        "    layers.MaxPooling2D(),\r\n",
        "    layers.Conv2D(32, 3, padding='same', activation='relu'),\r\n",
        "    layers.MaxPooling2D(),\r\n",
        "    layers.Conv2D(64, 3, padding='same', activation='relu'),\r\n",
        "    layers.MaxPooling2D(),\r\n",
        "    layers.Flatten(),\r\n",
        "    layers.Dense(128, activation='relu'),\r\n",
        "    layers.Dense(number_classes)\r\n",
        "])"
      ],
      "execution_count": null,
      "outputs": []
    },
    {
      "cell_type": "code",
      "metadata": {
        "id": "pAjZ7iJ_59Cg"
      },
      "source": [
        "# Compile the model using Adam optimizer and SparseCategoricalCrossentropy loss function\r\n",
        "# Metrics argument is used to measure the training and validation accuracy for each training epoch.\r\n",
        "model.compile(optimizer='adam',\r\n",
        "              loss=tf.keras.losses.SparseCategoricalCrossentropy(from_logits=True),\r\n",
        "              metrics=['accuracy'])"
      ],
      "execution_count": null,
      "outputs": []
    },
    {
      "cell_type": "code",
      "metadata": {
        "id": "3GZsG1xJ6HNj"
      },
      "source": [
        "# Use model summary to view the summary of the model\r\n",
        "model.summary()"
      ],
      "execution_count": null,
      "outputs": []
    },
    {
      "cell_type": "code",
      "metadata": {
        "id": "8dcspGxv6O7U"
      },
      "source": [
        "# Training the model with 2 epcoh's\r\n",
        "epochs = 1\r\n",
        "history = model.fit(\r\n",
        "    train_ds,\r\n",
        "    validation_data=val_ds,\r\n",
        "    epochs=epochs \r\n",
        ")"
      ],
      "execution_count": null,
      "outputs": []
    },
    {
      "cell_type": "code",
      "metadata": {
        "id": "BJu4dViCgt-O"
      },
      "source": [
        "# Saving the model\r\n",
        "model.save('/content/drive/MyDrive/Colab Notebooks/CE888/filesv2')            "
      ],
      "execution_count": null,
      "outputs": []
    },
    {
      "cell_type": "code",
      "metadata": {
        "id": "3Ew7ycAEhQRb"
      },
      "source": [
        "# Visualize the training results\r\n",
        "acc = history.history['accuracy']\r\n",
        "val_acc = history.history['val_accuracy']\r\n"
      ],
      "execution_count": null,
      "outputs": []
    },
    {
      "cell_type": "code",
      "metadata": {
        "id": "a3dINwkNhVBQ"
      },
      "source": [
        "loss = history.history['loss']\r\n",
        "val_loss = history.history['val_loss']"
      ],
      "execution_count": null,
      "outputs": []
    },
    {
      "cell_type": "code",
      "metadata": {
        "id": "9F0eL9WbhY1z"
      },
      "source": [
        "epochs_range = range(epochs)"
      ],
      "execution_count": null,
      "outputs": []
    },
    {
      "cell_type": "code",
      "metadata": {
        "id": "B5C66iS8hfEo"
      },
      "source": [
        "plt.figure(figsize=(8, 8))\r\n",
        "plt.subplot(1, 2, 1)\r\n",
        "plt.plot(epochs_range, acc, label='Training Accuracy')\r\n",
        "plt.plot(epochs_range, val_acc, label='Validation Accuracy')\r\n",
        "plt.legend(loc='lower right')\r\n",
        "plt.title('Training and Validation Accuracy')\r\n",
        "\r\n",
        "plt.subplot(1, 2, 2)\r\n",
        "plt.plot(epochs_range, loss, label='Training Loss')\r\n",
        "plt.plot(epochs_range, val_loss, label='Validation Loss')\r\n",
        "plt.legend(loc='upper right')\r\n",
        "plt.title('Training and Validation Loss')\r\n",
        "plt.show()"
      ],
      "execution_count": null,
      "outputs": []
    },
    {
      "cell_type": "code",
      "metadata": {
        "id": "TTiFUIxahxuF"
      },
      "source": [
        "# Predict on the unseen data\r\n",
        "image_path = \"/content/drive/MyDrive/Colab Notebooks/CE888/sample2.jpg\""
      ],
      "execution_count": null,
      "outputs": []
    },
    {
      "cell_type": "code",
      "metadata": {
        "id": "afv1l6zYh4MB"
      },
      "source": [
        "img = keras.preprocessing.image.load_img(\r\n",
        "    image_path, target_size=(img_height, img_width)\r\n",
        ")"
      ],
      "execution_count": null,
      "outputs": []
    },
    {
      "cell_type": "code",
      "metadata": {
        "id": "FHt_e0Dmh-CJ"
      },
      "source": [
        "img_array = keras.preprocessing.image.img_to_array(img)\r\n",
        "img_array = tf.expand_dims(img_array, 0)  # Create a batch"
      ],
      "execution_count": null,
      "outputs": []
    },
    {
      "cell_type": "code",
      "metadata": {
        "id": "ck6GXE-ViAkZ"
      },
      "source": [
        "predictions = model.predict(img_array)\r\n",
        "score = tf.nn.softmax(predictions[0])"
      ],
      "execution_count": null,
      "outputs": []
    },
    {
      "cell_type": "code",
      "metadata": {
        "id": "FOeCaA9EiDwC"
      },
      "source": [
        "print(\r\n",
        "    \"This image most likely belongs to {} with a {:.2f} percent confidence.\"\r\n",
        "        .format(class_names[np.argmax(score)], 100 * np.max(score))\r\n",
        ")"
      ],
      "execution_count": null,
      "outputs": []
    },
    {
      "cell_type": "code",
      "metadata": {
        "id": "9TbHfiaPpqd1"
      },
      "source": [
        "# Loading from model from the saved version\r\n",
        "model = keras.models.load_model('/content/drive/MyDrive/Colab Notebooks/CE888/filesv2')\r\n",
        "model.summary()"
      ],
      "execution_count": null,
      "outputs": []
    },
    {
      "cell_type": "code",
      "metadata": {
        "id": "_Pq1MewO5ZJN"
      },
      "source": [
        "# Testing on the unseen data\r\n",
        "image_path = \"/content/drive/MyDrive/Colab Notebooks/CE888/sample.jpg\""
      ],
      "execution_count": null,
      "outputs": []
    },
    {
      "cell_type": "code",
      "metadata": {
        "id": "rtSJuey55h-g"
      },
      "source": [
        "img = keras.preprocessing.image.load_img(\r\n",
        "      image_path, target_size=(254, 254)\r\n",
        "  )"
      ],
      "execution_count": null,
      "outputs": []
    },
    {
      "cell_type": "code",
      "metadata": {
        "id": "m5PjK_Km5opQ"
      },
      "source": [
        "img_array = keras.preprocessing.image.img_to_array(img)\r\n",
        "img_array = tf.expand_dims(img_array, 0)  # Create a batch\r\n",
        "predictions = model.predict(img_array)\r\n",
        "score = tf.nn.softmax(predictions[0])\r\n",
        "print(\"score: \",100 * np.max(score))\r\n",
        "print('predictions ', predictions)"
      ],
      "execution_count": null,
      "outputs": []
    },
    {
      "cell_type": "code",
      "metadata": {
        "id": "IeIo5h6n54lM"
      },
      "source": [
        "print(\r\n",
        "    \"This image most likely belongs to {} with a {:.2f} percent confidence.\"\r\n",
        "        .format(class_names[np.argmax(score)], 100 * np.max(score))\r\n",
        ")"
      ],
      "execution_count": null,
      "outputs": []
    },
    {
      "cell_type": "code",
      "metadata": {
        "id": "vXfUjmIh-p5h"
      },
      "source": [
        "test_dir = \"/content/drive/MyDrive/Colab Notebooks/CE888/Test1\""
      ],
      "execution_count": null,
      "outputs": []
    },
    {
      "cell_type": "code",
      "metadata": {
        "id": "AjKguDVOC2FE"
      },
      "source": [
        "from sklearn.metrics import accuracy_score\r\n",
        "from tensorflow.keras.preprocessing.image import ImageDataGenerator\r\n",
        "\r\n",
        "test_ds = ImageDataGenerator(preprocessing_function=tf.keras.applications.vgg16.preprocess_input).flow_from_directory(directory=test_dir,target_size=(254,254),classes=['No_Fire', 'Fire'],batch_size=10,shuffle=False)\r\n",
        "accuracy = model.predict(test_ds,steps=len(test_ds), verbose=0)\r\n",
        "accuracy_score(test_ds.classes,np.argmax(accuracy, axis=1))"
      ],
      "execution_count": null,
      "outputs": []
    }
  ]
}