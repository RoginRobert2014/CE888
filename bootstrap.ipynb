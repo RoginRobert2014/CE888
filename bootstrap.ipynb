{
  "nbformat": 4,
  "nbformat_minor": 0,
  "metadata": {
    "colab": {
      "name": "Copy of bootstrap.ipynb",
      "provenance": [],
      "collapsed_sections": [],
      "include_colab_link": true
    },
    "kernelspec": {
      "display_name": "Python 3",
      "language": "python",
      "name": "python3"
    },
    "language_info": {
      "codemirror_mode": {
        "name": "ipython",
        "version": 3
      },
      "file_extension": ".py",
      "mimetype": "text/x-python",
      "name": "python",
      "nbconvert_exporter": "python",
      "pygments_lexer": "ipython3",
      "version": "3.7.6"
    },
    "pycharm": {
      "stem_cell": {
        "cell_type": "raw",
        "metadata": {
          "collapsed": false
        },
        "source": []
      }
    }
  },
  "cells": [
    {
      "cell_type": "markdown",
      "metadata": {
        "id": "view-in-github",
        "colab_type": "text"
      },
      "source": [
        "<a href=\"https://colab.research.google.com/github/RoginRobert2014/CE888/blob/main/bootstrap.ipynb\" target=\"_parent\"><img src=\"https://colab.research.google.com/assets/colab-badge.svg\" alt=\"Open In Colab\"/></a>"
      ]
    },
    {
      "cell_type": "markdown",
      "metadata": {
        "id": "nCi_99yMYIb1"
      },
      "source": [
        "In this notebook you'll create your own bootstrap function following the bootstrap algorithm (check the lecture notes!)"
      ]
    },
    {
      "cell_type": "code",
      "metadata": {
        "id": "LY5zujI2YC37",
        "pycharm": {
          "name": "#%%# Imports\n"
        }
      },
      "source": [
        "import matplotlib\n",
        "import pandas as pd\n",
        "import seaborn as sns\n",
        "import numpy as np\n",
        "\n"
      ],
      "execution_count": 2,
      "outputs": []
    },
    {
      "cell_type": "code",
      "metadata": {
        "id": "Eqkwj4SMY38t"
      },
      "source": [
        "# Load the data\n",
        "df = pd.read_csv('https://raw.githubusercontent.com/albanda/CE888/master/lab2%20-%20bootstrap/customers.csv')\n",
        "data = df.values.T[1]\n",
        "\n"
      ],
      "execution_count": 3,
      "outputs": []
    },
    {
      "cell_type": "code",
      "metadata": {
        "id": "Gxvc_bScYC4H",
        "pycharm": {
          "name": "#%%\n"
        },
        "colab": {
          "base_uri": "https://localhost:8080/"
        },
        "outputId": "78e67d5c-6e6a-408e-cd60-a11cc0f7f10f"
      },
      "source": [
        "# Checking the notes from the lecture, create here your own bootstrap function:\n",
        "# 1. Sample from the input array x to create an array of samples of shape (n_bootstraps, sample_size)\n",
        "# Hint: Check the function random.choice() on Numpy\n",
        "# 2. Calculate and save the mean of the array (this is \"data_mean\" that is returned by the function)\n",
        "# 3. Calculate the mean from each bootstrap (i.e., row) and store it.\n",
        "# (This should be an array of n_bootstraps values)\n",
        "# 4. Calculate the lower and upper bounds for a 95% CI (hint: check the percentile function on Numpy)\n",
        "# 5. Return data_mean, and the lower and upper bounds of your interval\n",
        "def bootstrap_mean(x, sample_size, n_bootstraps):\n",
        "\n",
        "  # Create bootstrap samples from given dataset\n",
        "  bootstrapping = np.random.choice(x, replace= True, size= [n_bootstraps, sample_size])  \n",
        "\n",
        "  meanBootstapSamples = []\n",
        "\n",
        "  # Create an array of mean of all bootstrap samples\n",
        "  for singleSample in bootstrapping:\n",
        "    singleSampleMean = singleSample.mean()\n",
        "    meanBootstapSamples.append(singleSampleMean)\n",
        "\n",
        "  meanBootstapSamplesArray = np.array(meanBootstapSamples)  \n",
        "\n",
        "  # Mean of array of all means of bootstrap samples\n",
        "  data_mean = meanBootstapSamplesArray.mean() \n",
        "  \n",
        "  # Lower and upper mean values in mean of bootstrap arrays\n",
        "  lower, upper = np.percentile(meanBootstapSamplesArray, [2.5, 97.5])\n",
        "  return data_mean, lower, upper\n",
        "\n",
        "\n",
        "bootstrap_mean(data, data.shape[0], 10)"
      ],
      "execution_count": 4,
      "outputs": [
        {
          "output_type": "execute_result",
          "data": {
            "text/plain": [
              "(9.22857142857143, 7.0357142857142865, 11.864285714285716)"
            ]
          },
          "metadata": {
            "tags": []
          },
          "execution_count": 4
        }
      ]
    },
    {
      "cell_type": "code",
      "metadata": {
        "id": "AN7sEOcMYC4P",
        "pycharm": {
          "name": "#%%\n"
        },
        "colab": {
          "base_uri": "https://localhost:8080/",
          "height": 454
        },
        "outputId": "b3b9f5ec-b982-4b15-9df5-87077fd677a2"
      },
      "source": [
        "# Call your bootstrap function and plot the results\n",
        "\n",
        "boots = []\n",
        "for i in range(100, 50000, 1000):\n",
        "    boot = bootstrap_mean(data, data.shape[0], i)\n",
        "    boots.append([i, boot[0], \"mean\"])\n",
        "    boots.append([i, boot[1], \"lower\"])\n",
        "    boots.append([i, boot[2], \"upper\"])\n",
        "\n",
        "df_boot = pd.DataFrame(boots, columns=['Bootstrap Iterations', 'Mean', \"Value\"])\n",
        "sns_plot = sns.lmplot(df_boot.columns[0], df_boot.columns[1], data=df_boot, fit_reg=False, hue=\"Value\")\n",
        "\n",
        "sns_plot.axes[0, 0].set_ylim(0,)\n",
        "sns_plot.axes[0, 0].set_xlim(0, 100000)\n"
      ],
      "execution_count": 5,
      "outputs": [
        {
          "output_type": "stream",
          "text": [
            "/usr/local/lib/python3.6/dist-packages/seaborn/_decorators.py:43: FutureWarning: Pass the following variables as keyword args: x, y. From version 0.12, the only valid positional argument will be `data`, and passing other arguments without an explicit keyword will result in an error or misinterpretation.\n",
            "  FutureWarning\n"
          ],
          "name": "stderr"
        },
        {
          "output_type": "execute_result",
          "data": {
            "text/plain": [
              "(0.0, 100000.0)"
            ]
          },
          "metadata": {
            "tags": []
          },
          "execution_count": 5
        },
        {
          "output_type": "display_data",
          "data": {
            "image/png": "[encoded data removed]",
            "text/plain": [
              "<Figure size 425.125x360 with 1 Axes>"
            ]
          },
          "metadata": {
            "tags": [],
            "needs_background": "light"
          }
        }
      ]
    },
    {
      "cell_type": "markdown",
      "metadata": {
        "id": "MjtP4e2_YC4V"
      },
      "source": [
        "\n",
        "Now, modify the bootstrap function you created above so that you can pass your desired confidence interval as a parameter.\n",
        "\n"
      ]
    },
    {
      "cell_type": "code",
      "metadata": {
        "id": "3K9j0FuGYhHs",
        "colab": {
          "base_uri": "https://localhost:8080/"
        },
        "outputId": "04be6a09-d120-49cc-e4f1-9cc4f390c7bd"
      },
      "source": [
        "def bootstrap_mean_ci(sample, sample_size, n_bootstraps, ci):\n",
        "  # <---INSERT YOUR CODE HERE--->\n",
        "\n",
        " # Create bootstrap samples from given dataset\n",
        "  bootstrapping = np.random.choice(sample, replace= True, size= [n_bootstraps, sample_size])  \n",
        "\n",
        "  meanBootstapSamples = []\n",
        "\n",
        "  # Create an array of mean of all bootstrap samples\n",
        "  for singleSample in bootstrapping:\n",
        "    singleSampleMean = singleSample.mean()\n",
        "    meanBootstapSamples.append(singleSampleMean)\n",
        "    \n",
        "  meanBootstapSamplesArray = np.array(meanBootstapSamples)  \n",
        "\n",
        "  # Mean of array of all means of bootstrap samples\n",
        "  data_mean = meanBootstapSamplesArray.mean() \n",
        "  \n",
        "  # Lower and upper mean values in mean of bootstrap arrays\n",
        "  lower, upper = np.percentile(meanBootstapSamplesArray, [(100-ci)/2, ci + (100-ci)/2])\n",
        "\n",
        "  return data_mean, lower, upper\n",
        "\n",
        "bootstrap_mean_ci(data, data.shape[0], 10, 80)\n",
        "\t"
      ],
      "execution_count": 6,
      "outputs": [
        {
          "output_type": "execute_result",
          "data": {
            "text/plain": [
              "(8.72857142857143, 7.192857142857143, 10.478571428571428)"
            ]
          },
          "metadata": {
            "tags": []
          },
          "execution_count": 6
        }
      ]
    },
    {
      "cell_type": "code",
      "metadata": {
        "id": "uDnjq08GYl-C",
        "colab": {
          "base_uri": "https://localhost:8080/",
          "height": 454
        },
        "outputId": "2bf50801-a734-4f5d-9451-a19bcbcd32fa"
      },
      "source": [
        "boots = []\n",
        "for i in range(100, 50000, 1000):\n",
        "    boot = bootstrap_mean_ci(data, data.shape[0], i, 80)\n",
        "    boots.append([i, boot[0], \"mean\"])\n",
        "    boots.append([i, boot[1], \"lower\"])\n",
        "    boots.append([i, boot[2], \"upper\"])\n",
        "\n",
        "df_boot = pd.DataFrame(boots, columns=['Boostrap Iterations', 'Mean', \"Value\"])\n",
        "sns_plot = sns.lmplot(df_boot.columns[0], df_boot.columns[1], data=df_boot, fit_reg=False, hue=\"Value\")\n",
        "\n",
        "sns_plot.axes[0, 0].set_ylim(0,)\n",
        "sns_plot.axes[0, 0].set_xlim(0, 100000)\n",
        "\n",
        "#sns_plot.savefig(\"bootstrap_confidence_80.pdf\", bbox_inches='tight')\n"
      ],
      "execution_count": 7,
      "outputs": [
        {
          "output_type": "stream",
          "text": [
            "/usr/local/lib/python3.6/dist-packages/seaborn/_decorators.py:43: FutureWarning: Pass the following variables as keyword args: x, y. From version 0.12, the only valid positional argument will be `data`, and passing other arguments without an explicit keyword will result in an error or misinterpretation.\n",
            "  FutureWarning\n"
          ],
          "name": "stderr"
        },
        {
          "output_type": "execute_result",
          "data": {
            "text/plain": [
              "(0.0, 100000.0)"
            ]
          },
          "metadata": {
            "tags": []
          },
          "execution_count": 7
        },
        {
          "output_type": "display_data",
          "data": {
            "image/png": "[encoded data removed]",
            "text/plain": [
              "<Figure size 425.125x360 with 1 Axes>"
            ]
          },
          "metadata": {
            "tags": [],
            "needs_background": "light"
          }
        }
      ]
    },
    {
      "cell_type": "markdown",
      "metadata": {
        "id": "qjNgXW6wdd7r"
      },
      "source": [
        "# Vehicles dataset\n",
        "\n",
        "Now let's work on a different dataset, which is stored in the vehicles.csv file.\n"
      ]
    },
    {
      "cell_type": "code",
      "metadata": {
        "id": "avWv4ipFdpka",
        "colab": {
          "base_uri": "https://localhost:8080/",
          "height": 738
        },
        "outputId": "24422a3e-6c62-42de-9cd2-68df9a9ffafc"
      },
      "source": [
        "# Load and visualise the vehicles dataset\n",
        "# To load the dataset: https://neptune.ai/blog/google-colab-dealing-with-files (check section \"Load individual files directly from GitHub\")\n",
        "\n",
        "\n",
        "# Note that the current and new fleets are in different columns and have different lengths, so bear this in mind when you're plotting.\n",
        "# You can create separate scatterplots for the two fleets, as you would with the histograms, \n",
        "# or plot them both in one plot (but not one against the other).\n",
        "# <---INSERT YOUR CODE HERE--->\n",
        "\n",
        "# Load data from github vehicle dataset\n",
        "df = pd.read_csv('https://raw.githubusercontent.com/albanda/CE888/master/lab2%20-%20bootstrap/vehicles.csv')\n",
        "\n",
        "# current fleet dataset\n",
        "currentFleet = df.values.T[0]\n",
        "\n",
        "# new fleet dataset\n",
        "newFleet = df.values.T[1]\n",
        "\n",
        "# Removing null values from new fleet dataset\n",
        "newFleet= newFleet[np.logical_not(np.isnan(newFleet))]\n",
        "\n",
        "# Plotting Current fleet using seaborn histogram\n",
        "sns.displot(data=df, x='Current fleet')\n",
        "\n",
        "# Plotting new fleet using seaborn histogram\n",
        "sns.displot(data=df, x='New Fleet')\n",
        "\n",
        "# Note: you can add more cells as needed to organise your code and your plots\n"
      ],
      "execution_count": 21,
      "outputs": [
        {
          "output_type": "execute_result",
          "data": {
            "text/plain": [
              "<seaborn.axisgrid.FacetGrid at 0x7f68bb9860f0>"
            ]
          },
          "metadata": {
            "tags": []
          },
          "execution_count": 21
        },
        {
          "output_type": "display_data",
          "data": {
            "image/png": "[encoded data removed]",
            "text/plain": [
              "<Figure size 360x360 with 1 Axes>"
            ]
          },
          "metadata": {
            "tags": [],
            "needs_background": "light"
          }
        },
        {
          "output_type": "display_data",
          "data": {
            "image/png": "[encoded data removed]",
            "text/plain": [
              "<Figure size 360x360 with 1 Axes>"
            ]
          },
          "metadata": {
            "tags": [],
            "needs_background": "light"
          }
        }
      ]
    },
    {
      "cell_type": "markdown",
      "metadata": {
        "id": "B5d0tXDpIEj8"
      },
      "source": [
        "## Compare the two fleets\r\n",
        "\r\n",
        "The business analysts come up a comparison algorithm that requires the upper and lower bounds for the mean in order to say which fleet is better.\r\n",
        "1. Calculate the mean of both samples.\r\n",
        "2. Using the bootstrap function that you created:\r\n",
        "    - Construct the 95% CI of the mean of the current fleet.\r\n",
        "    - Construct the 95% CI of the mean of the new fleet.\r\n",
        "    - Are they comparable? (i.e., is one better than the other?) -- you can do this with a permutation test (check the lecture notes!)"
      ]
    },
    {
      "cell_type": "code",
      "metadata": {
        "id": "po4mp6zRHC0m",
        "colab": {
          "base_uri": "https://localhost:8080/"
        },
        "outputId": "6eeda26f-a525-4731-9b42-3c12c0081888"
      },
      "source": [
        "# <---INSERT YOUR CODE HERE--->\n",
        "\n",
        "from mlxtend.evaluate import permutation_test\n",
        "\n",
        "# Mean of current fleet samples\n",
        "currentMean = np.mean(currentFleet)\n",
        "\n",
        "# Mean of new fleet samples\n",
        "newMean = np.mean(newFleet)\n",
        "\n",
        "# Observed difference in mean\n",
        "tObserved = newMean - currentMean\n",
        "\n",
        "# 95% CI of the mean of the current fleet\n",
        "currentSet = bootstrap_mean_ci(currentFleet, currentFleet.shape[0], 10, 95)\n",
        "\n",
        "# Construct the 95% CI of the mean of the new fleet.\n",
        "newSet = bootstrap_mean_ci(newFleet, newFleet.shape[0], 10, 95)\n",
        "\n",
        "# Difference in mean of 95% CI\n",
        "differenceConfInt = newSet[0] - currentSet[0]\n",
        "\n",
        "# Permutation test \n",
        "concate = np.concatenate((currentFleet,newFleet))\n",
        "\n",
        "numberOfTimes = 0\n",
        "n_permutations = 20000\n",
        "for i in range(n_permutations):\n",
        "  # Performing permutation\n",
        "  perm = np.random.permutation(concate)\n",
        "\n",
        "  # Split the data into the same array length current fleet\n",
        "  pCurrentFleet = perm[:len(currentFleet)]\n",
        "  # Split the data into the same array length new fleet\n",
        "  pNewFleet = perm[-len(newFleet):]\n",
        "\n",
        "  # Mean value of current array\n",
        "  pCurrentFleetMean = pCurrentFleet.mean()\n",
        "\n",
        "  # Mean value of new array\n",
        "  pNewFleetMean = pNewFleet.mean()\n",
        "\n",
        "  # Difference in the mean\n",
        "  tperm = pNewFleetMean - pCurrentFleetMean\n",
        "\n",
        "  if tperm>tObserved:\n",
        "    numberOfTimes += 1\n",
        "\n",
        "pValue = (numberOfTimes)/(n_permutations)\n",
        "print('pValue : ', pValue)"
      ],
      "execution_count": 35,
      "outputs": [
        {
          "output_type": "stream",
          "text": [
            "pValue :  0.0\n"
          ],
          "name": "stdout"
        }
      ]
    },
    {
      "cell_type": "code",
      "metadata": {
        "id": "MkxvDZG4HC0n",
        "colab": {
          "base_uri": "https://localhost:8080/"
        },
        "outputId": "dae99332-8d2f-4133-e661-491c9e89f1ba"
      },
      "source": [
        "# Create your own function for a permutation test here (you will need it for the lab quiz!):\n",
        "def permut_test(sample1, sample2, n_permutations):\n",
        "    \"\"\"\n",
        "    sample1: 1D array\n",
        "    sample2: 1D array (note that the size of the two arrays can be different)\n",
        "    n_permutations: number of permutations to calculate the p-value\n",
        "    \"\"\"\n",
        "    # Calculating the mean of the two arrays\n",
        "    sample1Mean = sample1.mean()\n",
        "    sample2Mean = sample2.mean()\n",
        "\n",
        "    # Observed difference in mean\n",
        "    tObservation = sample2Mean - sample1Mean\n",
        "\n",
        "    concate = np.concatenate((sample1,sample2))\n",
        "\n",
        "    numberOfTimes = 0\n",
        "\n",
        "    for i in range(n_permutations):\n",
        "      perm = np.random.permutation(concate)\n",
        "\n",
        "      pSample1 = perm[:len(sample1)]\n",
        "      pSample2 = perm[-len(sample2):]\n",
        "\n",
        "      pSample1Mean = pSample1.mean()\n",
        "      pSample2Mean = pSample2.mean()\n",
        "\n",
        "      tperm = pSample2Mean - pSample1Mean\n",
        "      if (np.float64(tperm) > np.float64(tObservation)):        \n",
        "        numberOfTimes = numberOfTimes + 1\n",
        "\n",
        "    pvalue = numberOfTimes/n_permutations\n",
        "\n",
        "    return pvalue\n",
        "\n",
        "# Testing scenario's    \n",
        "a = np.array([1, 2, 3, 4, 5, 7])\n",
        "b = np.array([1, 2, 3, 4, 5, 9])\n",
        "permut_test(a, b, 20000)\n",
        "# permut_test(currentFleet, newFleet, 20000)"
      ],
      "execution_count": 36,
      "outputs": [
        {
          "output_type": "execute_result",
          "data": {
            "text/plain": [
              "0.359"
            ]
          },
          "metadata": {
            "tags": []
          },
          "execution_count": 36
        }
      ]
    }
  ]
}